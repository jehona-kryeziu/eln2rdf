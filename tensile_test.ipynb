{
 "cells": [
  {
   "cell_type": "markdown",
   "id": "e771c678-2068-45a5-9035-7745301339c6",
   "metadata": {},
   "source": [
    "## Data conversion for a tensile test experiment sample"
   ]
  },
  {
   "cell_type": "markdown",
   "id": "343d1a1f-f15b-4dea-820d-e3fb62e23a33",
   "metadata": {},
   "source": [
    "This notebook uses an example of the data which is synthetic, but that fits the format of the data derived from the experiments. The goal is to see how the scripts convert the data from the compressed format to an RDF graph and turtle file."
   ]
  },
  {
   "cell_type": "code",
   "execution_count": 1,
   "id": "2acf4d19-ebdb-43db-bf94-221ad3a8f7ec",
   "metadata": {},
   "outputs": [],
   "source": [
    "# import our functions from src\n",
    "from src import *"
   ]
  },
  {
   "cell_type": "code",
   "execution_count": 2,
   "id": "6b3d1c44-3b6c-4a08-8649-bc990663dd2a",
   "metadata": {},
   "outputs": [],
   "source": [
    "#import libraries\n",
    "import yaml\n",
    "import logging \n",
    "import sys\n",
    "from rdflib import Graph\n",
    "import os\n",
    "\n",
    "# Configure logging\n",
    "\n",
    "logger = logging.getLogger(__name__)"
   ]
  },
  {
   "cell_type": "code",
   "execution_count": 3,
   "id": "0fff01f6-a35b-47f0-8420-5b38a9a8328f",
   "metadata": {},
   "outputs": [],
   "source": [
    "# paths for the data\n",
    "eln_export = 'example.zip'\n",
    "output_file = 'tensile_test.ttl'\n",
    "keymap_file_path = 'keymaps/tensile_test.yml'\n",
    "plot = True  # whether or not to plot the RDF graph\n",
    "pattern = 'ftw.json'\n",
    "loglevel = 'INFO'"
   ]
  },
  {
   "cell_type": "code",
   "execution_count": 4,
   "id": "82e7c4e3-9051-40fd-b833-a3b899217c1a",
   "metadata": {},
   "outputs": [],
   "source": [
    "# Load the keymap\n",
    "try:\n",
    "    with open(keymap_file_path, 'r') as f:\n",
    "        keymap = yaml.safe_load(f)\n",
    "        logger.info(f\"Keymap loaded from {keymap_file_path}\")\n",
    "except Exception as e:\n",
    "    logger.error(f\"An error occurred while loading the keymap: {e}\")\n",
    "    sys.exit(1)\n",
    "\n",
    "try:\n",
    "    # Create a fresh RDF graph each time\n",
    "    data_graph = Graph()\n",
    "\n",
    "    # Bind the prefixes to the RDF graph\n",
    "    bind_prefixes_to_graph(data_graph, keymap['namespaces'])\n",
    "\n",
    "    # Process each file in the ELN export\n",
    "    for file_name, json_data in json_data_from_zip_generator(eln_export, pattern):\n",
    "        process_data_with_mapping(data_graph, json_data, keymap)\n",
    "\n",
    "    # Serialize the graph to a Turtle file\n",
    "    data_graph.serialize(destination=output_file, format='turtle')\n",
    "    logger.info(f\"RDF graph serialized to {output_file}\")\n",
    "\n",
    "    # Plot RDF graph if plot is set to True\n",
    "    if plot:\n",
    "        image_filename = os.path.splitext(output_file)[0] + '.png'\n",
    "        plot_rdf_graph(data_graph, image_filename)\n",
    "        logger.info(f\"RDF graph plotted and saved as {image_filename}\")\n",
    "\n",
    "except Exception as e:\n",
    "    logger.error(f\"An error occurred during data generation/processing: {e}\")\n",
    "    sys.exit(1)"
   ]
  },
  {
   "cell_type": "code",
   "execution_count": null,
   "id": "f1b74862-f92d-4000-8fba-817a7a4483ae",
   "metadata": {},
   "outputs": [],
   "source": []
  }
 ],
 "metadata": {
  "kernelspec": {
   "display_name": "Python 3 (ipykernel)",
   "language": "python",
   "name": "python3"
  },
  "language_info": {
   "codemirror_mode": {
    "name": "ipython",
    "version": 3
   },
   "file_extension": ".py",
   "mimetype": "text/x-python",
   "name": "python",
   "nbconvert_exporter": "python",
   "pygments_lexer": "ipython3",
   "version": "3.9.13"
  }
 },
 "nbformat": 4,
 "nbformat_minor": 5
}
